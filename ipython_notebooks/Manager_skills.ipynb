{
 "cells": [
  {
   "cell_type": "code",
   "execution_count": 41,
   "metadata": {
    "collapsed": false
   },
   "outputs": [],
   "source": [
    "\n",
    "import numpy as np\n",
    "import pandas as pd\n",
    "from sklearn.ensemble import RandomForestClassifier\n",
    "from sklearn.cross_validation import train_test_split\n",
    "from sklearn.metrics import log_loss\n",
    "\n",
    "import matplotlib.pyplot as plt\n",
    "%matplotlib inline"
   ]
  },
  {
   "cell_type": "code",
   "execution_count": 67,
   "metadata": {
    "collapsed": false
   },
   "outputs": [],
   "source": [
    "df = pd.read_json(open(\"./dataset/train.json\", \"r\"))"
   ]
  },
  {
   "cell_type": "code",
   "execution_count": 68,
   "metadata": {
    "collapsed": true
   },
   "outputs": [],
   "source": [
    "df[\"num_photos\"] = df[\"photos\"].apply(len)\n",
    "df[\"num_features\"] = df[\"features\"].apply(len)\n",
    "df[\"num_description_words\"] = df[\"description\"].apply(lambda x: len(x.split(\" \")))\n",
    "df[\"created\"] = pd.to_datetime(df[\"created\"])\n",
    "df[\"created_year\"] = df[\"created\"].dt.year\n",
    "df[\"created_month\"] = df[\"created\"].dt.month\n",
    "df[\"created_day\"] = df[\"created\"].dt.day\n",
    "\n",
    "features_to_use = [\"bathrooms\", \"bedrooms\", \"latitude\", \"longitude\", \"price\",\n",
    "                   \"num_photos\", \"num_features\", \"num_description_words\",\n",
    "                   \"created_year\", \"created_month\", \"created_day\"]"
   ]
  },
  {
   "cell_type": "code",
   "execution_count": 69,
   "metadata": {
    "collapsed": true
   },
   "outputs": [],
   "source": [
    "from sklearn import preprocessing\n",
    "\n",
    "lbl = preprocessing.LabelEncoder()\n",
    "lbl.fit(list(df['manager_id'].values))\n",
    "df['manager_id'] = lbl.transform(list(df['manager_id'].values))\n",
    "\n",
    "# let's add this feature\n",
    "features_to_use.append('manager_id')\n"
   ]
  },
  {
   "cell_type": "code",
   "execution_count": 70,
   "metadata": {
    "collapsed": false
   },
   "outputs": [],
   "source": [
    "# Let's split the data\n",
    "X = df[features_to_use]\n",
    "y = df[\"interest_level\"]\n",
    "X_train, X_val, y_train, y_val = train_test_split(X, y, test_size=0.33)\n",
    "\n"
   ]
  },
  {
   "cell_type": "code",
   "execution_count": 71,
   "metadata": {
    "collapsed": false
   },
   "outputs": [
    {
     "name": "stdout",
     "output_type": "stream",
     "text": [
      "            high_frac  low_frac  medium_frac  count\n",
      "manager_id                                         \n",
      "3470         0.000000  0.000000     1.000000      1\n",
      "3471         0.000000  0.666667     0.333333      3\n",
      "3472         0.714286  0.142857     0.142857      7\n",
      "3473         0.000000  1.000000     0.000000      1\n",
      "3475         0.200000  0.600000     0.200000      5\n",
      "3476         0.000000  1.000000     0.000000      1\n",
      "3477         0.000000  1.000000     0.000000      4\n",
      "3478         0.000000  1.000000     0.000000      1\n",
      "3479         0.250000  0.500000     0.250000      4\n",
      "3480         0.027027  0.689189     0.283784     74\n"
     ]
    }
   ],
   "source": [
    "# compute fractions and count for each manager\n",
    "\n",
    "\n",
    "\n",
    "\n",
    "temp = pd.concat([X_train.manager_id,pd.get_dummies(y_train)], axis = 1).groupby('manager_id').mean()\n",
    "\n",
    "temp.columns = ['high_frac','low_frac', 'medium_frac']\n",
    "temp['count'] = X_train.groupby('manager_id').count().iloc[:,1]\n",
    "\n",
    "# remember the manager_ids look different because we encoded them in the previous step \n",
    "print(temp.tail(10))"
   ]
  },
  {
   "cell_type": "code",
   "execution_count": 72,
   "metadata": {
    "collapsed": false
   },
   "outputs": [
    {
     "name": "stdout",
     "output_type": "stream",
     "text": [
      "high_frac        0.078404\n",
      "low_frac         0.665484\n",
      "medium_frac      0.256113\n",
      "manager_skill    0.412920\n",
      "dtype: float64\n",
      "            high_frac  low_frac  medium_frac  count  manager_skill\n",
      "manager_id                                                        \n",
      "3470         0.078404  0.665484     0.256113      1       0.412920\n",
      "3471         0.078404  0.665484     0.256113      3       0.412920\n",
      "3472         0.078404  0.665484     0.256113      7       0.412920\n",
      "3473         0.078404  0.665484     0.256113      1       0.412920\n",
      "3475         0.078404  0.665484     0.256113      5       0.412920\n",
      "3476         0.078404  0.665484     0.256113      1       0.412920\n",
      "3477         0.078404  0.665484     0.256113      4       0.412920\n",
      "3478         0.078404  0.665484     0.256113      1       0.412920\n",
      "3479         0.078404  0.665484     0.256113      4       0.412920\n",
      "3480         0.027027  0.689189     0.283784     74       0.337838\n"
     ]
    }
   ],
   "source": [
    "# compute skill\n",
    "temp['manager_skill'] = temp['high_frac']*2 +  temp['medium_frac'] \n",
    "# get ixes for unranked managers...\n",
    "unranked_managers_ixes = temp['count']<20\n",
    "# ... and ranked ones\n",
    "ranked_managers_ixes = ~unranked_managers_ixes\n",
    "\n",
    "# compute mean values from ranked managers and assign them to unranked ones\n",
    "mean_values = temp.loc[ranked_managers_ixes, ['high_frac','low_frac', 'medium_frac','manager_skill']].mean()\n",
    "print(mean_values)\n",
    "temp.loc[unranked_managers_ixes,['high_frac','low_frac', 'medium_frac','manager_skill']] = mean_values.values\n",
    "print(temp.tail(10))"
   ]
  },
  {
   "cell_type": "code",
   "execution_count": 73,
   "metadata": {
    "collapsed": false
   },
   "outputs": [
    {
     "data": {
      "text/html": [
       "<div>\n",
       "<table border=\"1\" class=\"dataframe\">\n",
       "  <thead>\n",
       "    <tr style=\"text-align: right;\">\n",
       "      <th></th>\n",
       "      <th>bathrooms</th>\n",
       "      <th>bedrooms</th>\n",
       "      <th>latitude</th>\n",
       "      <th>longitude</th>\n",
       "      <th>price</th>\n",
       "      <th>num_photos</th>\n",
       "      <th>num_features</th>\n",
       "      <th>num_description_words</th>\n",
       "      <th>created_year</th>\n",
       "      <th>created_month</th>\n",
       "      <th>created_day</th>\n",
       "      <th>manager_id</th>\n",
       "      <th>high_frac</th>\n",
       "      <th>low_frac</th>\n",
       "      <th>medium_frac</th>\n",
       "      <th>count</th>\n",
       "      <th>manager_skill</th>\n",
       "    </tr>\n",
       "  </thead>\n",
       "  <tbody>\n",
       "    <tr>\n",
       "      <th>0</th>\n",
       "      <td>1.0</td>\n",
       "      <td>2</td>\n",
       "      <td>40.7672</td>\n",
       "      <td>-73.9867</td>\n",
       "      <td>3450</td>\n",
       "      <td>6</td>\n",
       "      <td>4</td>\n",
       "      <td>171</td>\n",
       "      <td>2016</td>\n",
       "      <td>5</td>\n",
       "      <td>26</td>\n",
       "      <td>45</td>\n",
       "      <td>0.037736</td>\n",
       "      <td>0.509434</td>\n",
       "      <td>0.452830</td>\n",
       "      <td>53</td>\n",
       "      <td>0.528302</td>\n",
       "    </tr>\n",
       "    <tr>\n",
       "      <th>1</th>\n",
       "      <td>1.0</td>\n",
       "      <td>0</td>\n",
       "      <td>40.7801</td>\n",
       "      <td>-73.9544</td>\n",
       "      <td>1900</td>\n",
       "      <td>2</td>\n",
       "      <td>2</td>\n",
       "      <td>38</td>\n",
       "      <td>2016</td>\n",
       "      <td>6</td>\n",
       "      <td>26</td>\n",
       "      <td>319</td>\n",
       "      <td>0.078404</td>\n",
       "      <td>0.665484</td>\n",
       "      <td>0.256113</td>\n",
       "      <td>9</td>\n",
       "      <td>0.412920</td>\n",
       "    </tr>\n",
       "    <tr>\n",
       "      <th>2</th>\n",
       "      <td>2.0</td>\n",
       "      <td>4</td>\n",
       "      <td>40.7413</td>\n",
       "      <td>-73.9781</td>\n",
       "      <td>5995</td>\n",
       "      <td>5</td>\n",
       "      <td>9</td>\n",
       "      <td>109</td>\n",
       "      <td>2016</td>\n",
       "      <td>4</td>\n",
       "      <td>27</td>\n",
       "      <td>795</td>\n",
       "      <td>0.258065</td>\n",
       "      <td>0.225806</td>\n",
       "      <td>0.516129</td>\n",
       "      <td>31</td>\n",
       "      <td>1.032258</td>\n",
       "    </tr>\n",
       "    <tr>\n",
       "      <th>3</th>\n",
       "      <td>1.5</td>\n",
       "      <td>3</td>\n",
       "      <td>40.7304</td>\n",
       "      <td>-74.0050</td>\n",
       "      <td>5295</td>\n",
       "      <td>10</td>\n",
       "      <td>8</td>\n",
       "      <td>191</td>\n",
       "      <td>2016</td>\n",
       "      <td>4</td>\n",
       "      <td>6</td>\n",
       "      <td>2930</td>\n",
       "      <td>0.078404</td>\n",
       "      <td>0.665484</td>\n",
       "      <td>0.256113</td>\n",
       "      <td>12</td>\n",
       "      <td>0.412920</td>\n",
       "    </tr>\n",
       "    <tr>\n",
       "      <th>4</th>\n",
       "      <td>1.0</td>\n",
       "      <td>2</td>\n",
       "      <td>40.7436</td>\n",
       "      <td>-73.9727</td>\n",
       "      <td>3500</td>\n",
       "      <td>11</td>\n",
       "      <td>13</td>\n",
       "      <td>133</td>\n",
       "      <td>2016</td>\n",
       "      <td>4</td>\n",
       "      <td>6</td>\n",
       "      <td>1303</td>\n",
       "      <td>0.068966</td>\n",
       "      <td>0.689655</td>\n",
       "      <td>0.241379</td>\n",
       "      <td>29</td>\n",
       "      <td>0.379310</td>\n",
       "    </tr>\n",
       "  </tbody>\n",
       "</table>\n",
       "</div>"
      ],
      "text/plain": [
       "   bathrooms  bedrooms  latitude  longitude  price  num_photos  num_features  \\\n",
       "0        1.0         2   40.7672   -73.9867   3450           6             4   \n",
       "1        1.0         0   40.7801   -73.9544   1900           2             2   \n",
       "2        2.0         4   40.7413   -73.9781   5995           5             9   \n",
       "3        1.5         3   40.7304   -74.0050   5295          10             8   \n",
       "4        1.0         2   40.7436   -73.9727   3500          11            13   \n",
       "\n",
       "   num_description_words  created_year  created_month  created_day  \\\n",
       "0                    171          2016              5           26   \n",
       "1                     38          2016              6           26   \n",
       "2                    109          2016              4           27   \n",
       "3                    191          2016              4            6   \n",
       "4                    133          2016              4            6   \n",
       "\n",
       "   manager_id  high_frac  low_frac  medium_frac  count  manager_skill  \n",
       "0          45   0.037736  0.509434     0.452830     53       0.528302  \n",
       "1         319   0.078404  0.665484     0.256113      9       0.412920  \n",
       "2         795   0.258065  0.225806     0.516129     31       1.032258  \n",
       "3        2930   0.078404  0.665484     0.256113     12       0.412920  \n",
       "4        1303   0.068966  0.689655     0.241379     29       0.379310  "
      ]
     },
     "execution_count": 73,
     "metadata": {},
     "output_type": "execute_result"
    }
   ],
   "source": [
    "# inner join to assign manager features to the managers in the training dataframe\n",
    "X_train = X_train.merge(temp.reset_index(),how='left', left_on='manager_id', right_on='manager_id')\n",
    "X_train.head()"
   ]
  },
  {
   "cell_type": "code",
   "execution_count": 74,
   "metadata": {
    "collapsed": false
   },
   "outputs": [
    {
     "data": {
      "text/html": [
       "<div>\n",
       "<table border=\"1\" class=\"dataframe\">\n",
       "  <thead>\n",
       "    <tr style=\"text-align: right;\">\n",
       "      <th></th>\n",
       "      <th>bathrooms</th>\n",
       "      <th>bedrooms</th>\n",
       "      <th>latitude</th>\n",
       "      <th>longitude</th>\n",
       "      <th>price</th>\n",
       "      <th>num_photos</th>\n",
       "      <th>num_features</th>\n",
       "      <th>num_description_words</th>\n",
       "      <th>created_year</th>\n",
       "      <th>created_month</th>\n",
       "      <th>created_day</th>\n",
       "      <th>manager_id</th>\n",
       "      <th>high_frac</th>\n",
       "      <th>low_frac</th>\n",
       "      <th>medium_frac</th>\n",
       "      <th>count</th>\n",
       "      <th>manager_skill</th>\n",
       "    </tr>\n",
       "  </thead>\n",
       "  <tbody>\n",
       "    <tr>\n",
       "      <th>0</th>\n",
       "      <td>1.0</td>\n",
       "      <td>2</td>\n",
       "      <td>40.7565</td>\n",
       "      <td>-73.9973</td>\n",
       "      <td>3700</td>\n",
       "      <td>8</td>\n",
       "      <td>14</td>\n",
       "      <td>120</td>\n",
       "      <td>2016</td>\n",
       "      <td>5</td>\n",
       "      <td>10</td>\n",
       "      <td>3341</td>\n",
       "      <td>0.121212</td>\n",
       "      <td>0.242424</td>\n",
       "      <td>0.636364</td>\n",
       "      <td>33.0</td>\n",
       "      <td>0.878788</td>\n",
       "    </tr>\n",
       "    <tr>\n",
       "      <th>1</th>\n",
       "      <td>1.0</td>\n",
       "      <td>2</td>\n",
       "      <td>40.7073</td>\n",
       "      <td>-74.0046</td>\n",
       "      <td>2500</td>\n",
       "      <td>4</td>\n",
       "      <td>8</td>\n",
       "      <td>70</td>\n",
       "      <td>2016</td>\n",
       "      <td>6</td>\n",
       "      <td>1</td>\n",
       "      <td>912</td>\n",
       "      <td>0.078404</td>\n",
       "      <td>0.665484</td>\n",
       "      <td>0.256113</td>\n",
       "      <td>18.0</td>\n",
       "      <td>0.412920</td>\n",
       "    </tr>\n",
       "    <tr>\n",
       "      <th>2</th>\n",
       "      <td>1.0</td>\n",
       "      <td>2</td>\n",
       "      <td>40.7198</td>\n",
       "      <td>-73.9891</td>\n",
       "      <td>3795</td>\n",
       "      <td>5</td>\n",
       "      <td>6</td>\n",
       "      <td>113</td>\n",
       "      <td>2016</td>\n",
       "      <td>5</td>\n",
       "      <td>11</td>\n",
       "      <td>2150</td>\n",
       "      <td>0.000000</td>\n",
       "      <td>0.923077</td>\n",
       "      <td>0.076923</td>\n",
       "      <td>26.0</td>\n",
       "      <td>0.076923</td>\n",
       "    </tr>\n",
       "    <tr>\n",
       "      <th>3</th>\n",
       "      <td>1.0</td>\n",
       "      <td>2</td>\n",
       "      <td>40.7207</td>\n",
       "      <td>-73.9801</td>\n",
       "      <td>4492</td>\n",
       "      <td>6</td>\n",
       "      <td>12</td>\n",
       "      <td>142</td>\n",
       "      <td>2016</td>\n",
       "      <td>4</td>\n",
       "      <td>26</td>\n",
       "      <td>839</td>\n",
       "      <td>0.078404</td>\n",
       "      <td>0.665484</td>\n",
       "      <td>0.256113</td>\n",
       "      <td>7.0</td>\n",
       "      <td>0.412920</td>\n",
       "    </tr>\n",
       "    <tr>\n",
       "      <th>4</th>\n",
       "      <td>1.0</td>\n",
       "      <td>0</td>\n",
       "      <td>40.7770</td>\n",
       "      <td>-73.9460</td>\n",
       "      <td>1710</td>\n",
       "      <td>4</td>\n",
       "      <td>2</td>\n",
       "      <td>29</td>\n",
       "      <td>2016</td>\n",
       "      <td>6</td>\n",
       "      <td>21</td>\n",
       "      <td>2839</td>\n",
       "      <td>0.260000</td>\n",
       "      <td>0.300000</td>\n",
       "      <td>0.440000</td>\n",
       "      <td>50.0</td>\n",
       "      <td>0.960000</td>\n",
       "    </tr>\n",
       "  </tbody>\n",
       "</table>\n",
       "</div>"
      ],
      "text/plain": [
       "   bathrooms  bedrooms  latitude  longitude  price  num_photos  num_features  \\\n",
       "0        1.0         2   40.7565   -73.9973   3700           8            14   \n",
       "1        1.0         2   40.7073   -74.0046   2500           4             8   \n",
       "2        1.0         2   40.7198   -73.9891   3795           5             6   \n",
       "3        1.0         2   40.7207   -73.9801   4492           6            12   \n",
       "4        1.0         0   40.7770   -73.9460   1710           4             2   \n",
       "\n",
       "   num_description_words  created_year  created_month  created_day  \\\n",
       "0                    120          2016              5           10   \n",
       "1                     70          2016              6            1   \n",
       "2                    113          2016              5           11   \n",
       "3                    142          2016              4           26   \n",
       "4                     29          2016              6           21   \n",
       "\n",
       "   manager_id  high_frac  low_frac  medium_frac  count  manager_skill  \n",
       "0        3341   0.121212  0.242424     0.636364   33.0       0.878788  \n",
       "1         912   0.078404  0.665484     0.256113   18.0       0.412920  \n",
       "2        2150   0.000000  0.923077     0.076923   26.0       0.076923  \n",
       "3         839   0.078404  0.665484     0.256113    7.0       0.412920  \n",
       "4        2839   0.260000  0.300000     0.440000   50.0       0.960000  "
      ]
     },
     "execution_count": 74,
     "metadata": {},
     "output_type": "execute_result"
    }
   ],
   "source": [
    "# add the features computed on the training dataset to the validation dataset\n",
    "X_val = X_val.merge(temp.reset_index(),how='left', left_on='manager_id', right_on='manager_id')\n",
    "new_manager_ixes = X_val['high_frac'].isnull()\n",
    "X_val.loc[new_manager_ixes,['high_frac','low_frac', 'medium_frac','manager_skill']] = mean_values.values\n",
    "X_val.head()\n",
    "\n"
   ]
  },
  {
   "cell_type": "code",
   "execution_count": 75,
   "metadata": {
    "collapsed": true
   },
   "outputs": [],
   "source": [
    "features_to_use.extend(['high_frac','low_frac', 'medium_frac','manager_skill'])"
   ]
  },
  {
   "cell_type": "code",
   "execution_count": 29,
   "metadata": {
    "collapsed": false
   },
   "outputs": [
    {
     "data": {
      "text/plain": [
       "0.62068654093626219"
      ]
     },
     "execution_count": 29,
     "metadata": {},
     "output_type": "execute_result"
    }
   ],
   "source": [
    "# features to use for this classifier == only basic numerical\n",
    "#0.62068654093626219\n",
    "these_features = [f for f in features_to_use if f not in ['manager_id','high_frac','low_frac', 'medium_frac','manager_skill']]\n",
    "\n",
    "clf = RandomForestClassifier(n_estimators=1000)\n",
    "clf.fit(X_train[these_features], y_train)\n",
    "y_val_pred = clf.predict_proba(X_val[these_features])\n",
    "log_loss(y_val, y_val_pred)"
   ]
  },
  {
   "cell_type": "code",
   "execution_count": 30,
   "metadata": {
    "collapsed": false
   },
   "outputs": [
    {
     "data": {
      "text/plain": [
       "<matplotlib.axes._subplots.AxesSubplot at 0x7fa16a470ba8>"
      ]
     },
     "execution_count": 30,
     "metadata": {},
     "output_type": "execute_result"
    },
    {
     "data": {
      "image/png": "[encoded data removed]",
      "text/plain": [
       "<matplotlib.figure.Figure at 0x7fa169fe9978>"
      ]
     },
     "metadata": {},
     "output_type": "display_data"
    }
   ],
   "source": [
    "pd.Series(index = these_features, data = clf.feature_importances_).sort_values().plot(kind = 'bar')"
   ]
  },
  {
   "cell_type": "code",
   "execution_count": 31,
   "metadata": {
    "collapsed": false
   },
   "outputs": [
    {
     "data": {
      "text/plain": [
       "0.6156322009637929"
      ]
     },
     "execution_count": 31,
     "metadata": {},
     "output_type": "execute_result"
    }
   ],
   "source": [
    "these_features = [f for f in features_to_use if f not in ['high_frac','low_frac', 'medium_frac','manager_skill']]\n",
    "\n",
    "clf = RandomForestClassifier(n_estimators=1000)\n",
    "clf.fit(X_train[these_features], y_train)\n",
    "y_val_pred = clf.predict_proba(X_val[these_features])\n",
    "log_loss(y_val, y_val_pred)"
   ]
  },
  {
   "cell_type": "code",
   "execution_count": 32,
   "metadata": {
    "collapsed": false
   },
   "outputs": [
    {
     "data": {
      "text/plain": [
       "<matplotlib.axes._subplots.AxesSubplot at 0x7fa16a087518>"
      ]
     },
     "execution_count": 32,
     "metadata": {},
     "output_type": "execute_result"
    },
    {
     "data": {
      "image/png": "[encoded data removed]",
      "text/plain": [
       "<matplotlib.figure.Figure at 0x7fa16a1f3f28>"
      ]
     },
     "metadata": {},
     "output_type": "display_data"
    }
   ],
   "source": [
    "# Let's visualize features importance\n",
    "pd.Series(index = these_features, data = clf.feature_importances_).sort_values().plot(kind = 'bar')"
   ]
  },
  {
   "cell_type": "code",
   "execution_count": null,
   "metadata": {
    "collapsed": true
   },
   "outputs": [],
   "source": []
  },
  {
   "cell_type": "code",
   "execution_count": 82,
   "metadata": {
    "collapsed": false
   },
   "outputs": [
    {
     "data": {
      "text/plain": [
       "0.61242657851289206"
      ]
     },
     "execution_count": 82,
     "metadata": {},
     "output_type": "execute_result"
    }
   ],
   "source": [
    "# no manager_id, no fraction, use skill instead\n",
    "#0.59939387962424462\n",
    "these_features = [f for f in features_to_use if f not in ['manager_id','low_frac', 'medium_frac', 'high_frac']]\n",
    "\n",
    "clf = RandomForestClassifier(n_estimators=2000)\n",
    "clf.fit(X_train[these_features], y_train)\n",
    "y_val_pred = clf.predict_proba(X_val[these_features])\n",
    "log_loss(y_val, y_val_pred)"
   ]
  },
  {
   "cell_type": "code",
   "execution_count": 83,
   "metadata": {
    "collapsed": false
   },
   "outputs": [
    {
     "data": {
      "text/plain": [
       "<matplotlib.axes._subplots.AxesSubplot at 0x7fa173550550>"
      ]
     },
     "execution_count": 83,
     "metadata": {},
     "output_type": "execute_result"
    },
    {
     "data": {
      "image/png": "[encoded data removed]",
      "text/plain": [
       "<matplotlib.figure.Figure at 0x7fa18244cf60>"
      ]
     },
     "metadata": {},
     "output_type": "display_data"
    }
   ],
   "source": [
    "# Let's visualize features importance\n",
    "pd.Series(index = these_features, data = clf.feature_importances_).sort_values().plot(kind = 'bar')"
   ]
  },
  {
   "cell_type": "code",
   "execution_count": null,
   "metadata": {
    "collapsed": true
   },
   "outputs": [],
   "source": []
  }
 ],
 "metadata": {
  "anaconda-cloud": {},
  "kernelspec": {
   "display_name": "Python [conda root]",
   "language": "python",
   "name": "conda-root-py"
  },
  "language_info": {
   "codemirror_mode": {
    "name": "ipython",
    "version": 3
   },
   "file_extension": ".py",
   "mimetype": "text/x-python",
   "name": "python",
   "nbconvert_exporter": "python",
   "pygments_lexer": "ipython3",
   "version": "3.5.2"
  }
 },
 "nbformat": 4,
 "nbformat_minor": 1
}
